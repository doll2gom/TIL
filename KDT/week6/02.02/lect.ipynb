{
 "cells": [
  {
   "cell_type": "code",
   "execution_count": 1,
   "metadata": {},
   "outputs": [],
   "source": [
    "M = int(input())\n",
    "high = list(map(int, input().split()))\n",
    "lst = []\n",
    "cnt = 0\n",
    "for h in range(M):\n",
    "    if high[h] < high[(h+1)%M]:\n",
    "        cnt += 1\n",
    "    elif high[h] >= high[(h+1)%M]:\n",
    "        lst.append(cnt)\n",
    "        cnt = 0\n",
    "print(max(lst))"
   ]
  },
  {
   "cell_type": "code",
   "execution_count": null,
   "metadata": {},
   "outputs": [],
   "source": []
  }
 ],
 "metadata": {
  "kernelspec": {
   "display_name": "Python 3.9.13 64-bit ('3.9.13')",
   "language": "python",
   "name": "python3"
  },
  "language_info": {
   "codemirror_mode": {
    "name": "ipython",
    "version": 3
   },
   "file_extension": ".py",
   "mimetype": "text/x-python",
   "name": "python",
   "nbconvert_exporter": "python",
   "pygments_lexer": "ipython3",
   "version": "3.9.13"
  },
  "orig_nbformat": 4,
  "vscode": {
   "interpreter": {
    "hash": "6cdf233a6776fa608fc41d0c46ffbda9430eb561eb58b63fcccbdfb5b694ee21"
   }
  }
 },
 "nbformat": 4,
 "nbformat_minor": 2
}
